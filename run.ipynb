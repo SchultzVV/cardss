{
 "cells": [
  {
   "cell_type": "code",
   "execution_count": null,
   "metadata": {},
   "outputs": [],
   "source": [
    "!python detect.py --weights yolov5s.pt --img 640 --conf 0.25 --source data/images"
   ]
  },
  {
   "cell_type": "code",
   "execution_count": 2,
   "metadata": {},
   "outputs": [
    {
     "name": "stdout",
     "output_type": "stream",
     "text": [
      "\u001b[34m\u001b[1mtrain: \u001b[0mweights=yolov5s.pt, cfg=, data=cards.yaml, hyp=data/hyps/hyp.scratch-low.yaml, epochs=3, batch_size=16, imgsz=640, rect=False, resume=False, nosave=False, noval=False, noautoanchor=False, noplots=False, evolve=None, bucket=, cache=ram, image_weights=False, device=, multi_scale=False, single_cls=False, optimizer=SGD, sync_bn=False, workers=8, project=runs/train, name=exp, exist_ok=False, quad=False, cos_lr=False, label_smoothing=0.0, patience=100, freeze=[0], save_period=-1, seed=0, local_rank=-1, entity=None, upload_dataset=False, bbox_interval=-1, artifact_alias=latest\n",
      "Command 'git fetch ultralytics' timed out after 5 seconds\n",
      "\u001b[31m\u001b[1mrequirements:\u001b[0m YOLOv5 requirements \"thop>=0.1.1\" \"tqdm>=4.64.0\" not found, attempting AutoUpdate...\n",
      "remote: Enumerating objects: 15393, done.\u001b[K\n",
      "remote: Counting objects: 100% (24/24), done.\u001b[K\n",
      "remote: Compressing objects: 100% (18/18), done.\u001b[K\n",
      "remote: Total 15393 (delta 9), reused 16 (delta 6), pack-reused 15369\u001b[K\n",
      "Receiving objects: 100% (15393/15393), 14.37 MiB | 8.42 MiB/s, done.\n",
      "Resolving deltas: 100% (10519/10519), done.\n",
      "From https://github.com/ultralytics/yolov5\n",
      " * [new branch]      add/weights_dir   -> ultralytics/add/weights_dir\n",
      " * [new branch]      benchmarks        -> ultralytics/benchmarks\n",
      " * [new branch]      exp/scaleFill     -> ultralytics/exp/scaleFill\n",
      " * [new branch]      exp12             -> ultralytics/exp12\n",
      " * [new branch]      exp13             -> ultralytics/exp13\n",
      " * [new branch]      exp13-nosoft      -> ultralytics/exp13-nosoft\n",
      " * [new branch]      exp13-soft        -> ultralytics/exp13-soft\n",
      " * [new branch]      fix/rgb_albumentations -> ultralytics/fix/rgb_albumentations\n",
      " * [new branch]      ghost             -> ultralytics/ghost\n",
      " * [new branch]      master            -> ultralytics/master\n",
      " * [new branch]      study_activations -> ultralytics/study_activations\n",
      " * [new branch]      ultralytics/HUB   -> ultralytics/ultralytics/HUB\n",
      " * [new branch]      update/cls-album  -> ultralytics/update/cls-album\n",
      " * [new branch]      update/textlogger -> ultralytics/update/textlogger\n",
      " * [new branch]      update/threaded   -> ultralytics/update/threaded\n",
      " * [new tag]         v1.0              -> v1.0\n",
      " * [new tag]         v2.0              -> v2.0\n",
      " * [new tag]         v3.0              -> v3.0\n",
      " * [new tag]         v3.1              -> v3.1\n",
      " * [new tag]         v4.0              -> v4.0\n",
      " * [new tag]         v5.0              -> v5.0\n",
      " * [new tag]         v6.0              -> v6.0\n",
      " * [new tag]         v6.1              -> v6.1\n",
      " * [new tag]         v6.2              -> v6.2\n",
      " * [new tag]         v7.0              -> v7.0\n"
     ]
    }
   ],
   "source": [
    "!python train.py --img 640 --batch 16 --epochs 3 --data cards.yaml --weights yolov5s.pt --cache"
   ]
  },
  {
   "cell_type": "code",
   "execution_count": null,
   "metadata": {},
   "outputs": [],
   "source": []
  },
  {
   "cell_type": "code",
   "execution_count": null,
   "metadata": {},
   "outputs": [],
   "source": []
  },
  {
   "cell_type": "code",
   "execution_count": null,
   "metadata": {},
   "outputs": [],
   "source": []
  }
 ],
 "metadata": {
  "kernelspec": {
   "display_name": "Python 3",
   "language": "python",
   "name": "python3"
  },
  "language_info": {
   "codemirror_mode": {
    "name": "ipython",
    "version": 3
   },
   "file_extension": ".py",
   "mimetype": "text/x-python",
   "name": "python",
   "nbconvert_exporter": "python",
   "pygments_lexer": "ipython3",
   "version": "3.10.6"
  },
  "orig_nbformat": 4
 },
 "nbformat": 4,
 "nbformat_minor": 2
}
